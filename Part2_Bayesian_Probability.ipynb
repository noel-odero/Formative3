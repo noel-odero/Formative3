{
  "cells": [
    {
      "cell_type": "markdown",
      "metadata": {
        "colab_type": "text",
        "id": "view-in-github"
      },
      "source": [
        "<a href=\"https://colab.research.google.com/github/noel-odero/Formative3/blob/main/Part2_Bayesian_Probability.ipynb\" target=\"_parent\"><img src=\"https://colab.research.google.com/assets/colab-badge.svg\" alt=\"Open In Colab\"/></a>"
      ]
    },
    {
      "cell_type": "markdown",
      "metadata": {
        "id": "7odLnEm1Ic9-"
      },
      "source": [
        "- Using Baye's Theorem, we answer the question : If a movie contains certain keyword, what's the probability it's a positive review?\n",
        "- **Bayes' Theorem Formula**\n",
        "  - ***P(Positive | keyword) = P(keyword | Positive) × P(Positive) / P(keyword)***\n",
        "\n",
        "- In Plain English:\n",
        "\"The probability a review is positive GIVEN the keyword appears equals:\n",
        "\n",
        "    - How often the keyword appears in positive reviews\n",
        "   - Times the base rate of positive reviews\n",
        "  - Divided by how often the keyword appears overall"
      ]
    },
    {
      "cell_type": "code",
      "execution_count": null,
      "metadata": {
        "id": "_qYv4GPoK58F"
      },
      "outputs": [],
      "source": [
        "!pip install -q pandas numpy matplotlib seaborn\n",
        "\n",
        "import pandas as pd\n",
        "import numpy as np\n",
        "import re\n",
        "from collections import Counter\n",
        "import matplotlib.pyplot as plt\n",
        "import seaborn as sns\n"
      ]
    },
    {
      "cell_type": "code",
      "execution_count": null,
      "metadata": {
        "colab": {
          "base_uri": "https://localhost:8080/"
        },
        "id": "N0GF03zkMSt_",
        "outputId": "00992d15-1315-42d0-a4fc-2577d628b7e4"
      },
      "outputs": [
        {
          "name": "stdout",
          "output_type": "stream",
          "text": [
            "\n",
            "Dataset shape: (50000, 2)\n",
            "Columns: ['review', 'sentiment']\n",
            "\n",
            "Sample rows:\n",
            "                                               review sentiment\n",
            "0   One of the other reviewers has mentioned that ...  positive\n",
            "1   A wonderful little production. <br /><br />The...  positive\n",
            "2   I thought this was a wonderful way to spend ti...  positive\n",
            "3   Basically there's a family where a little boy ...  negative\n",
            "4   Petter Mattei's \"Love in the Time of Money\" is...  positive\n",
            "5   Probably my all-time favorite movie, a story o...  positive\n",
            "6   I sure would like to see a resurrection of a u...  positive\n",
            "7   This show was an amazing, fresh & innovative i...  negative\n",
            "8   Encouraged by the positive comments about this...  negative\n",
            "9   If you like original gut wrenching laughter yo...  positive\n",
            "10  Phil the Alien is one of those quirky films wh...  negative\n",
            "11  I saw this movie when I was about 12 when it c...  negative\n",
            "12  So im not a big fan of Boll's work but then ag...  negative\n",
            "13  The cast played Shakespeare.<br /><br />Shakes...  negative\n",
            "14  This a fantastic movie of three prisoners who ...  positive\n",
            "15  Kind of drawn in by the erotic scenes, only to...  negative\n",
            "16  Some films just simply should not be remade. T...  positive\n",
            "17  This movie made it into one of my top 10 most ...  negative\n",
            "18  I remember this film,it was the first film i h...  positive\n",
            "19  An awful film! It must have been up against so...  negative\n",
            "20  After the success of Die Hard and it's sequels...  positive\n",
            "21  I had the terrible misfortune of having to vie...  negative\n",
            "22  What an absolutely stunning movie, if you have...  positive\n",
            "23  First of all, let's get a few things straight ...  negative\n",
            "24  This was the worst movie I saw at WorldFest an...  negative\n",
            "25  The Karen Carpenter Story shows a little more ...  positive\n",
            "26  \"The Cell\" is an exotic masterpiece, a dizzyin...  positive\n",
            "27  This film tried to be too many things all at o...  negative\n",
            "28  This movie was so frustrating. Everything seem...  negative\n",
            "29  'War movie' is a Hollywood genre that has been...  positive\n"
          ]
        }
      ],
      "source": [
        "df = pd.read_csv(\"IMDB Dataset.csv\")\n",
        "\n",
        "print(f\"\\nDataset shape: {df.shape}\")\n",
        "print(f\"Columns: {df.columns.tolist()}\")\n",
        "print(f\"\\nSample rows:\")\n",
        "print(df.head(30))\n"
      ]
    },
    {
      "cell_type": "code",
      "execution_count": null,
      "metadata": {
        "colab": {
          "base_uri": "https://localhost:8080/"
        },
        "id": "Mjczn8TnTK5i",
        "outputId": "ee4e7ada-3d93-41da-e258-158ea479af54"
      },
      "outputs": [
        {
          "name": "stdout",
          "output_type": "stream",
          "text": [
            "\n",
            "Missing values:\n",
            "review          0\n",
            "sentiment       0\n",
            "review_lower    0\n",
            "dtype: int64\n",
            "\n",
            "Sentiment Distribution:\n",
            "   Positive: 25,000 (50.0%)\n",
            "   Negative: 25,000 (50.0%)\n",
            "\n",
            "Base Rates:\n",
            "   P(Positive) = 0.5 (50.0%)\n",
            "   P(Negative) = 0.5 (50.0%)\n"
          ]
        }
      ],
      "source": [
        "# Data processing\n",
        "missing = df.isnull().sum()\n",
        "print(f\"\\nMissing values:\")\n",
        "print(missing)\n",
        "\n",
        "# Converting to lower case for case-insensitive matching\n",
        "df['review_lower'] = df['review'].str.lower()\n",
        "\n",
        "# Standardize sentiment labels\n",
        "df['sentiment'] = df['sentiment'].str.lower().str.strip()\n",
        "\n",
        "# sentiment distribution\n",
        "sentiment_counts = df['sentiment'].value_counts()\n",
        "total_reviews = len(df)\n",
        "print(f\"\\nSentiment Distribution:\")\n",
        "for sentiment, count in sentiment_counts.items():\n",
        "    percentage = (count / total_reviews) * 100\n",
        "    print(f\"   {sentiment.capitalize()}: {count:,} ({percentage:}%)\")\n",
        "\n",
        "\n",
        "# Base rates\n",
        "positive_reviews = len(df[df['sentiment'] == 'positive'])\n",
        "negative_reviews = len(df[df['sentiment'] == 'negative'])\n",
        "\n",
        "base_rate_positive = positive_reviews / total_reviews\n",
        "base_rate_negative = negative_reviews / total_reviews\n",
        "\n",
        "print(f\"\\nBase Rates:\")\n",
        "print(f\"   P(Positive) = {base_rate_positive:} ({base_rate_positive*100:}%)\")\n",
        "print(f\"   P(Negative) = {base_rate_negative:} ({base_rate_negative*100:}%)\")\n"
      ]
    },
    {
      "cell_type": "code",
      "execution_count": null,
      "metadata": {
        "colab": {
          "base_uri": "https://localhost:8080/"
        },
        "id": "5MyGEL2YPPRM",
        "outputId": "2dde22c2-e30a-4b3c-b8ec-3fc0d8f9dc9e"
      },
      "outputs": [
        {
          "name": "stdout",
          "output_type": "stream",
          "text": [
            "\n",
            " Analysis Configuration:\n",
            "   Target sentiment: POSITIVE\n",
            "   Positive keywords: ['wonderful', 'amazing', 'brilliant', 'masterpiece']\n",
            "   Negative keywords: ['terrible', 'awful', 'worst', 'frustrating', 'boring']\n"
          ]
        }
      ],
      "source": [
        "# Configuration\n",
        "\n",
        "Positive_Keywords = ['wonderful', 'amazing', 'brilliant', 'masterpiece']\n",
        "Negative_Keywords = ['terrible', 'awful', 'worst', 'frustrating', 'boring']\n",
        "Calculate_For = 'positive'\n",
        "print(f\"\\n Analysis Configuration:\")\n",
        "print(f\"   Target sentiment: {Calculate_For.upper()}\")\n",
        "print(f\"   Positive keywords: {Positive_Keywords}\")\n",
        "print(f\"   Negative keywords: {Negative_Keywords}\")"
      ]
    },
    {
      "cell_type": "code",
      "execution_count": null,
      "metadata": {
        "colab": {
          "base_uri": "https://localhost:8080/"
        },
        "id": "4r9u8wxaiuVA",
        "outputId": "87b897ed-a8d2-462f-dd36-24ce9925291b"
      },
      "outputs": [
        {
          "name": "stdout",
          "output_type": "stream",
          "text": [
            "\n",
            "Searching for 9 keywords in 50,000 reviews...\n",
            "   [POSITIVE] 'wonderful': 2,780 occurrences (5.56%)\n",
            "   [POSITIVE] 'amazing': 2,158 occurrences (4.32%)\n",
            "   [POSITIVE] 'brilliant': 2,088 occurrences (4.18%)\n",
            "   [POSITIVE] 'masterpiece': 1,207 occurrences (2.41%)\n",
            "   [NEGATIVE] 'terrible': 2,701 occurrences (5.40%)\n",
            "   [NEGATIVE] 'awful': 2,883 occurrences (5.77%)\n",
            "   [NEGATIVE] 'worst': 4,434 occurrences (8.87%)\n",
            "   [NEGATIVE] 'frustrating': 173 occurrences (0.35%)\n",
            "   [NEGATIVE] 'boring': 3,051 occurrences (6.10%)\n"
          ]
        }
      ],
      "source": [
        "# Keyword detection\n",
        "\n",
        "def contains_keyword(text, keyword):\n",
        "\n",
        "    pattern = r'\\b' + re.escape(keyword.lower()) + r'\\b'\n",
        "    return bool(re.search(pattern, str(text).lower()))\n",
        "\n",
        "all_keywords = Positive_Keywords + Negative_Keywords\n",
        "\n",
        "print(f'\\nSearching for {len(all_keywords)} keywords in {len(df):,} reviews...')\n",
        "\n",
        "\n",
        "for keyword in all_keywords:\n",
        "    column_name = f'has_{keyword}'\n",
        "\n",
        "    # Apply keyword detection\n",
        "    df[column_name] = df['review_lower'].apply(\n",
        "        lambda x: contains_keyword(x, keyword)\n",
        "    )\n",
        "\n",
        "    # Count occurrences\n",
        "    count = df[column_name].sum()\n",
        "    percentage = (count / len(df)) * 100\n",
        "\n",
        "    # Determine keyword type\n",
        "    keyword_type = \"POSITIVE\" if keyword in Positive_Keywords else \"NEGATIVE\"\n",
        "\n",
        "    print(f\"   [{keyword_type}] '{keyword}': {count:,} occurrences ({percentage:.2f}%)\")\n",
        "\n",
        "\n",
        "    sentiment_reviews = df[df['sentiment'] == Calculate_For]\n",
        "\n"
      ]
    },
    {
      "cell_type": "code",
      "execution_count": null,
      "metadata": {
        "colab": {
          "base_uri": "https://localhost:8080/"
        },
        "id": "PUeon25Q-rwE",
        "outputId": "82744092-ffbe-487e-cfe5-9b2b18a921cd"
      },
      "outputs": [
        {
          "name": "stdout",
          "output_type": "stream",
          "text": [
            "{'keyword': 'amazing', 'keyword_type': 'Positive', 'prior': 0.5, 'likelihood': np.float64(0.06716), 'marginal': np.float64(0.04316), 'posterior': np.float64(0.778035217794254), 'n_sentiment': 25000, 'n_keyword': np.int64(2158), 'n_sentiment_with_keyword': np.int64(1679)}\n"
          ]
        }
      ],
      "source": [
        "# Baye's Theorem Implementation\n",
        "\n",
        "def calculate_bayes_probabilities(df, keyword, target_sentiment=\"positive\"):\n",
        "  \"\"\"\n",
        "    Formula:\n",
        "    P(A|B) = P(B|A) × P(A) / P(B)\n",
        "\n",
        "    In our case:\n",
        "    P(Positive|keyword) = P(keyword|Positive) × P(Positive) / P(keyword)\n",
        "\n",
        "    The probability that a review is Positive given that it contains the keyword\n",
        "    equals the probability of the keyword given that the review is Positive,\n",
        "    multiplied by the base rate (prior) of being Positive,\n",
        "    and divided by the overall probability of seeing that keyword in any review.\n",
        "  \"\"\"\n",
        "\n",
        "  keyword_col = f'has_{keyword}'\n",
        "\n",
        "  # What is the probability that any random review is positive?\n",
        "\n",
        "  prior = len(df[df['sentiment'] == target_sentiment]) / total_reviews\n",
        "\n",
        "  # What is the probability of the keyword appearing in positive reviews?\n",
        "\n",
        "  sentiment_reviews = df[df['sentiment'] == target_sentiment]\n",
        "  num_sentiment_with_keyword = sentiment_reviews[keyword_col].sum()\n",
        "  num_sentiment_reviews = len(sentiment_reviews)\n",
        "\n",
        "  if num_sentiment_reviews > 0:\n",
        "        likelihood = num_sentiment_with_keyword / num_sentiment_reviews\n",
        "  else:\n",
        "        likelihood = 0.0\n",
        "\n",
        "  # What is the overal probability of the keyword appearing?\n",
        "\n",
        "  num_keyword_total = df[keyword_col].sum()\n",
        "  marginal = num_keyword_total / total_reviews\n",
        "\n",
        "\n",
        "  # What is the probability of the positive sentiment give the keyword?\n",
        "\n",
        "  if marginal > 0:\n",
        "        posterior = (likelihood * prior) / marginal\n",
        "  else:\n",
        "        posterior = 0.0\n",
        "\n",
        "  return {\n",
        "        'keyword': keyword,\n",
        "        'keyword_type': 'Positive' if keyword in Positive_Keywords else 'Negative',\n",
        "        'prior': prior,\n",
        "        'likelihood': likelihood,\n",
        "        'marginal': marginal,\n",
        "        'posterior': posterior,\n",
        "        'n_sentiment': num_sentiment_reviews,\n",
        "        'n_keyword': num_keyword_total,\n",
        "        'n_sentiment_with_keyword': num_sentiment_with_keyword\n",
        "    }\n",
        "\n",
        "\n",
        "print(calculate_bayes_probabilities(df, 'amazing', target_sentiment='positive'))\n"
      ]
    },
    {
      "cell_type": "code",
      "execution_count": null,
      "metadata": {
        "colab": {
          "base_uri": "https://localhost:8080/"
        },
        "id": "-xxJIPRnH9YI",
        "outputId": "556f548d-b763-4587-e5d0-e8f80e6927b9"
      },
      "outputs": [
        {
          "name": "stdout",
          "output_type": "stream",
          "text": [
            "\n",
            "Bayesian Probability Table:\n",
            "    keyword keyword_type  prior  likelihood  marginal  posterior\n",
            "  wonderful     Positive    0.5      0.0903    0.0556     0.8122\n",
            "    amazing     Positive    0.5      0.0672    0.0432     0.7780\n",
            "  brilliant     Positive    0.5      0.0635    0.0418     0.7601\n",
            "masterpiece     Positive    0.5      0.0351    0.0241     0.7274\n",
            "   terrible     Negative    0.5      0.0153    0.0540     0.1418\n",
            "      awful     Negative    0.5      0.0114    0.0577     0.0985\n",
            "      worst     Negative    0.5      0.0164    0.0887     0.0927\n",
            "frustrating     Negative    0.5      0.0024    0.0035     0.3526\n",
            "     boring     Negative    0.5      0.0236    0.0610     0.1937\n"
          ]
        }
      ],
      "source": [
        "# Compute for all keywords\n",
        "results = [calculate_bayes_probabilities(df, kw, target_sentiment=Calculate_For) for kw in all_keywords]\n",
        "\n",
        "# Convert to DataFrame\n",
        "results_df = pd.DataFrame(results)\n",
        "results_df[['prior', 'likelihood', 'marginal', 'posterior']] = results_df[['prior', 'likelihood', 'marginal', 'posterior']].round(4)\n",
        "\n",
        "# Display as markdown-like table\n",
        "print(\"\\nBayesian Probability Table:\")\n",
        "print(results_df[['keyword', 'keyword_type', 'prior', 'likelihood', 'marginal', 'posterior']].to_string(index=False))\n"
      ]
    },
    {
      "cell_type": "code",
      "execution_count": null,
      "metadata": {
        "colab": {
          "base_uri": "https://localhost:8080/",
          "height": 402
        },
        "id": "dQkYo8oqItFP",
        "outputId": "add7cd26-4ffe-4287-f54c-19525ad5a3bc"
      },
      "outputs": [
        {
          "data": {
            "image/png": "[encoded data removed]",
            "text/plain": [
              "<Figure size 800x500 with 1 Axes>"
            ]
          },
          "metadata": {},
          "output_type": "display_data"
        }
      ],
      "source": [
        "plt.figure(figsize=(8,5))\n",
        "sns.barplot(x='keyword', y='posterior', hue='keyword_type', data=results_df)\n",
        "plt.title(f\"Posterior Probability: P({Calculate_For.capitalize()} | keyword)\")\n",
        "plt.xlabel(\"Keyword\")\n",
        "plt.ylabel(\"Posterior Probability\")\n",
        "plt.tight_layout()\n",
        "plt.show()"
      ]
    },
    {
      "cell_type": "code",
      "execution_count": null,
      "metadata": {
        "colab": {
          "base_uri": "https://localhost:8080/"
        },
        "id": "gUxJnJxHJw5H",
        "outputId": "f98a57e3-a7e2-4561-d74e-924eef24561d"
      },
      "outputs": [
        {
          "name": "stdout",
          "output_type": "stream",
          "text": [
            "If a review contains 'wonderful', the probability it's positive is 81.22%.\n",
            "If a review contains 'amazing', the probability it's positive is 77.80%.\n",
            "If a review contains 'brilliant', the probability it's positive is 76.01%.\n",
            "If a review contains 'masterpiece', the probability it's positive is 72.74%.\n",
            "If a review contains 'terrible', the probability it's positive is 14.18%.\n",
            "If a review contains 'awful', the probability it's positive is 9.85%.\n",
            "If a review contains 'worst', the probability it's positive is 9.27%.\n",
            "If a review contains 'frustrating', the probability it's positive is 35.26%.\n",
            "If a review contains 'boring', the probability it's positive is 19.37%.\n"
          ]
        }
      ],
      "source": [
        "for _, row in results_df.iterrows():\n",
        "    print(f\"If a review contains '{row['keyword']}', the probability it's {Calculate_For} is {row['posterior']:.2%}.\")\n"
      ]
    }
  ],
  "metadata": {
    "colab": {
      "authorship_tag": "ABX9TyPcI+ZMWz95x2v0/CUKLPAT",
      "include_colab_link": true,
      "provenance": []
    },
    "kernelspec": {
      "display_name": "Python 3",
      "name": "python3"
    },
    "language_info": {
      "name": "python"
    }
  },
  "nbformat": 4,
  "nbformat_minor": 0
}
